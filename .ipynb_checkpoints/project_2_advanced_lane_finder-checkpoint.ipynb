{
 "cells": [
  {
   "cell_type": "markdown",
   "metadata": {},
   "source": [
    "## Advanced Lane Finding Project\n",
    "\n",
    "The goals / steps of this project are the following:\n",
    "\n",
    "* Compute the camera calibration matrix and distortion coefficients given a set of chessboard images.\n",
    "* Apply a distortion correction to raw images.\n",
    "* Use color transforms, gradients, etc., to create a thresholded binary image.\n",
    "* Apply a perspective transform to rectify binary image (\"birds-eye view\").\n",
    "* Detect lane pixels and fit to find the lane boundary.\n",
    "* Determine the curvature of the lane and vehicle position with respect to center.\n",
    "* Warp the detected lane boundaries back onto the original image.\n",
    "* Output visual display of the lane boundaries and numerical estimation of lane curvature and vehicle position."
   ]
  },
  {
   "cell_type": "markdown",
   "metadata": {},
   "source": [
    "## Initialization"
   ]
  },
  {
   "cell_type": "code",
   "execution_count": 183,
   "metadata": {},
   "outputs": [],
   "source": [
    "import numpy as np # For numerical calculations\n",
    "import cv2 # For OpenCV libraries\n",
    "import glob # For group input of images\n",
    "import matplotlib.pyplot as plt # Plotting library\n",
    "%matplotlib qt\n",
    "\n",
    "# For video IO and processing\n",
    "from moviepy.editor import VideoFileClip\n",
    "from IPython.display import HTML"
   ]
  },
  {
   "cell_type": "markdown",
   "metadata": {},
   "source": [
    "## 1. Camera Calibration using Chessboard Images"
   ]
  },
  {
   "cell_type": "code",
   "execution_count": 184,
   "metadata": {},
   "outputs": [],
   "source": [
    "def cameraCalibration():\n",
    "    # Using checkerboard images with 9x6 number of inside indices\n",
    "    objp = np.zeros((6*9,3), np.float32)\n",
    "    objp[:,:2] = np.mgrid[0:9,0:6].T.reshape(-1,2)\n",
    "\n",
    "    # Arrays to store object points and image points from all the images.\n",
    "    objpoints = [] # 3d points in real world space\n",
    "    imgpoints = [] # 2d points in image plane.\n",
    "\n",
    "    # Make a list of calibration images\n",
    "    images = glob.glob('camera_cal/calibration*.jpg')\n",
    "\n",
    "    # Step through the list and search for chessboard corners\n",
    "    for fname in images:\n",
    "        img = cv2.imread(fname) # Reads each frame as an iamge\n",
    "        gray = cv2.cvtColor(img,cv2.COLOR_BGR2GRAY) # Convert t ograyscale\n",
    "        img_size = (gray.shape[1], gray.shape[0])\n",
    "\n",
    "        # Find the chessboard corners\n",
    "        ret, corners = cv2.findChessboardCorners(gray, (9,6),None)\n",
    "\n",
    "        # If found, add object points, image points\n",
    "        if ret == True:\n",
    "            objpoints.append(objp)\n",
    "            imgpoints.append(corners)\n",
    "\n",
    "    # Use all found corners and image points\n",
    "    ret, mtx, dist, rvecs, tvecs = cv2.calibrateCamera(objpoints, imgpoints, gray.shape[::-1], None, None)\n",
    "\n",
    "    return mtx, dist"
   ]
  },
  {
   "cell_type": "markdown",
   "metadata": {},
   "source": [
    "## 2. Distortion Correction"
   ]
  },
  {
   "cell_type": "code",
   "execution_count": 185,
   "metadata": {},
   "outputs": [],
   "source": [
    "def undistort(img, mtx, dist):\n",
    "    # Use generated parameters to undistort each image without recalculating coefficients\n",
    "    undistorted = cv2.undistort(img, mtx, dist, None, mtx)\n",
    "\n",
    "    return undistorted"
   ]
  },
  {
   "cell_type": "markdown",
   "metadata": {},
   "source": [
    "## 3. Color/Gradient Thresholds with Gaussian Blur"
   ]
  },
  {
   "cell_type": "code",
   "execution_count": 186,
   "metadata": {},
   "outputs": [],
   "source": [
    "def colorGradient(img, s_thresh=(170, 255), sx_thresh=(21, 100)):\n",
    "    copy = np.copy(img)\n",
    "    \n",
    "    #Use kernal size to filter out noise\n",
    "    kernel_size = 11\n",
    "    blur = cv2.GaussianBlur(copy, (kernel_size, kernel_size), 0)\n",
    "    \n",
    "    # Convert to HLS color space and separate the V channel\n",
    "    hls = cv2.cvtColor(blur, cv2.COLOR_RGB2HLS)\n",
    "    l_channel = hls[:,:,1]\n",
    "    s_channel = hls[:,:,2]\n",
    "\n",
    "    # Sobel x\n",
    "    sobelx = cv2.Sobel(l_channel, cv2.CV_64F, 1, 0) # Take the derivative in x\n",
    "    abs_sobelx = np.absolute(sobelx) # Absolute x derivative to accentuate lines away from horizontal\n",
    "    scaled_sobel = np.uint8(255*abs_sobelx/np.max(abs_sobelx))\n",
    "    \n",
    "    # Threshold x gradient\n",
    "    sxbinary = np.zeros_like(scaled_sobel)\n",
    "    sxbinary[(scaled_sobel >= sx_thresh[0]) & (scaled_sobel <= sx_thresh[1])] = 1\n",
    "    \n",
    "    # Threshold color channel\n",
    "    s_binary = np.zeros_like(s_channel)\n",
    "    s_binary[(s_channel >= s_thresh[0]) & (s_channel <= s_thresh[1])] = 1\n",
    "\n",
    "    # Stack each channel\n",
    "    color_binary = np.zeros_like(s_channel)\n",
    "    color_binary[(s_binary == 1) | (sxbinary == 1)] = 1\n",
    "    \n",
    "    return color_binary"
   ]
  },
  {
   "cell_type": "markdown",
   "metadata": {},
   "source": [
    "## 4. Perspective Transform (Bird's Eye View)"
   ]
  },
  {
   "cell_type": "code",
   "execution_count": 187,
   "metadata": {},
   "outputs": [],
   "source": [
    "# Define a function that takes an image, number of x and y points, \n",
    "# camera matrix and distortion coefficients\n",
    "def perspectiveTransform(img):\n",
    "    # Estimated source and destination values for a bird's eye view of the road\n",
    "    # Values were determined using estimates from two straight line images\n",
    "    h = img.shape[0]\n",
    "    w = img.shape[1]\n",
    "    img_size = (w,h)\n",
    "    mid_offset = 90\n",
    "\n",
    "    # Top left, top right, bottom left, bottom right\n",
    "    src = np.float32([[w/2-mid_offset, 460], [w/2+mid_offset, 460], [0, h-15], [w, h-15]])\n",
    "    dst = np.float32([[0, 0], [w, 0], [0, h], [w, h]])\n",
    "\n",
    "    # Given src and dst points, calculate the perspective transform matrix\n",
    "    M = cv2.getPerspectiveTransform(src, dst)\n",
    "\n",
    "    # Warp the image using OpenCV warpPerspective()\n",
    "    transformed = cv2.warpPerspective(img, M, img_size, flags=cv2.INTER_LINEAR)\n",
    "\n",
    "    # Return the resulting image and matrix\n",
    "    return transformed"
   ]
  },
  {
   "cell_type": "markdown",
   "metadata": {},
   "source": [
    "## 5. Lane Boundary Detection and Vehicle Position"
   ]
  },
  {
   "cell_type": "code",
   "execution_count": 188,
   "metadata": {},
   "outputs": [],
   "source": [
    "def detectLane(image, left_fit, right_fit):\n",
    "    # Check if this is the first iteration -> Use windows and histograms\n",
    "    if (left_fit == [0,0,0] and right_fit == [0,0,0]):\n",
    "        # Find our lane pixels first\n",
    "        leftx, lefty, rightx, righty = windowHistograms(image)\n",
    "    else:\n",
    "        leftx, lefty, rightx, righty = searchAroundPoly(image, left_fit, right_fit)\n",
    "    \n",
    "    # Obtain polynomial coefficients in both pixels and meters\n",
    "    left_fitx, right_fitx, left_fit_rw, right_fit_rw, ploty = fit_poly(image.shape, leftx, lefty, rightx, righty)\n",
    "    \n",
    "    # Calculate curvature in meters\n",
    "    curvature = measure_curvature_real(ploty, left_fit_rw, right_fit_rw)\n",
    "    \n",
    "    # Calculate offset in meters using the meters per pixel ratio\n",
    "    # Assumption: Center of the image/video is the center of the car\n",
    "    xm_per_pix = 3.7/700 # meters per pixel in x dimension\n",
    "    offset = (640 - (left_fitx[-1] + right_fitx[-1])/2)*xm_per_pix\n",
    "    \n",
    "    # Visualization using generated polynomial lane curve estimates\n",
    "    margin = 30 # Pixels on each side of the polynomial curve\n",
    "    out_img = np.dstack((image, image, image))*255\n",
    "    \n",
    "    # Generate a polygon to illustrate the search window area\n",
    "    # And recast the x and y points into usable format for cv2.fillPoly()\n",
    "    # Left Lane\n",
    "    left_line_window1 = np.array([np.transpose(np.vstack([left_fitx-margin, ploty]))])\n",
    "    left_line_window2 = np.array([np.flipud(np.transpose(np.vstack([left_fitx+margin, \n",
    "                              ploty])))])\n",
    "    left_line_pts = np.hstack((left_line_window1, left_line_window2))\n",
    "    # Right Lane\n",
    "    right_line_window1 = np.array([np.transpose(np.vstack([right_fitx-margin, ploty]))])\n",
    "    right_line_window2 = np.array([np.flipud(np.transpose(np.vstack([right_fitx+margin, \n",
    "                              ploty])))])\n",
    "    right_line_pts = np.hstack((right_line_window1, right_line_window2))\n",
    "    # Central (Safe) Area\n",
    "    center_window1 = np.array([np.transpose(np.vstack([left_fitx+margin, ploty]))])\n",
    "    center_window2 = np.array([np.flipud(np.transpose(np.vstack([right_fitx-margin, \n",
    "                              ploty])))])\n",
    "    center_pts = np.hstack((center_window1, center_window2))\n",
    "\n",
    "    # Draw the lane onto the warped blank image\n",
    "    cv2.fillPoly(out_img, np.int_([left_line_pts]), (255, 0, 0))\n",
    "    cv2.fillPoly(out_img, np.int_([right_line_pts]), (0, 0, 255))\n",
    "    cv2.fillPoly(out_img, np.int_([center_pts]), (0, 255, 0))\n",
    "\n",
    "    return out_img, left_fit, right_fit, curvature, offset"
   ]
  },
  {
   "cell_type": "code",
   "execution_count": 189,
   "metadata": {},
   "outputs": [],
   "source": [
    "def fit_poly(img_shape, leftx, lefty, rightx, righty):\n",
    "    # Fit a second order polynomial for both the left and right lane data points\n",
    "    left_fit = np.polyfit(lefty, leftx, 2)\n",
    "    right_fit = np.polyfit(righty, rightx, 2)\n",
    "   \n",
    "    # Generate x and y values for plotting\n",
    "    ploty = np.linspace(0, img_shape[0]-1, img_shape[0] )\n",
    "    try:\n",
    "        left_fitx = left_fit[0]*ploty**2 + left_fit[1]*ploty + left_fit[2]\n",
    "        right_fitx = right_fit[0]*ploty**2 + right_fit[1]*ploty + right_fit[2]\n",
    "    except TypeError:\n",
    "        # Avoids an error if `left` and `right_fit` are still none or incorrect\n",
    "        print('The function failed to fit a line!')\n",
    "        left_fitx = 1*ploty**2 + 1*ploty\n",
    "        right_fitx = 1*ploty**2 + 1*ploty\n",
    "    \n",
    "    # For the real-world polyfit\n",
    "    ym_per_pix = 30/720 # meters per pixel in y dimension\n",
    "    xm_per_pix = 3.7/700 # meters per pixel in x dimension\n",
    "    left_fit_rw = np.polyfit(lefty*ym_per_pix, leftx*xm_per_pix, 2)\n",
    "    right_fit_rw = np.polyfit(righty*ym_per_pix, rightx*xm_per_pix, 2)\n",
    "    \n",
    "    return left_fitx, right_fitx, left_fit_rw, right_fit_rw, ploty"
   ]
  },
  {
   "cell_type": "code",
   "execution_count": 190,
   "metadata": {},
   "outputs": [],
   "source": [
    "def windowHistograms(image):\n",
    "    # Take a histogram of the bottom half of the image\n",
    "    histogram = np.sum(image[image.shape[0]//2:,:], axis=0)\n",
    "\n",
    "    # Find the peak of the left and right halves of the histogram\n",
    "    # These will be the starting point for the left and right lines\n",
    "    midpoint = np.int(histogram.shape[0]//2)\n",
    "    leftx_base = np.argmax(histogram[:midpoint])\n",
    "    rightx_base = np.argmax(histogram[midpoint:]) + midpoint\n",
    "\n",
    "    # Hyperparamters\n",
    "    # Choose the number of sliding windows\n",
    "    nwindows = 9\n",
    "    # Set the width of the windows +/- margin\n",
    "    margin = 80\n",
    "    # Set minimum number of pixels found to recenter window\n",
    "    minpix = 30\n",
    "\n",
    "    # Set height of windows - based on nwindows above and image shape\n",
    "    window_height = np.int(image.shape[0]//nwindows)\n",
    "    \n",
    "    # Identify the x and y positions of all nonzero pixels in the image\n",
    "    nonzero = image.nonzero()\n",
    "    nonzeroy = np.array(nonzero[0])\n",
    "    nonzerox = np.array(nonzero[1])\n",
    "    \n",
    "    # Current positions to be updated later for each window in nwindows\n",
    "    leftx_current = leftx_base\n",
    "    rightx_current = rightx_base\n",
    "\n",
    "    # Create empty lists to receive left and right lane pixel indices\n",
    "    left_lane_inds = []\n",
    "    right_lane_inds = []\n",
    "\n",
    "    # Step through the windows one by one\n",
    "    for window in range(nwindows):\n",
    "        # Identify window boundaries in x and y (and right and left)\n",
    "        win_y_low = image.shape[0] - (window+1)*window_height\n",
    "        win_y_high = image.shape[0] - window*window_height\n",
    "        win_xleft_low = leftx_current - margin\n",
    "        win_xleft_high = leftx_current + margin\n",
    "        win_xright_low = rightx_current - margin\n",
    "        win_xright_high = rightx_current + margin\n",
    "\n",
    "        # Identify non-zero pixels that are within the window bounds for each window\n",
    "        good_left_inds = ((nonzeroy < win_y_high) & (nonzeroy >= win_y_low) & \n",
    "        (nonzerox < win_xleft_high) & (nonzerox >= win_xleft_low)).nonzero()[0]\n",
    "        good_right_inds = ((nonzeroy < win_y_high) & (nonzeroy >= win_y_low) *\n",
    "        (nonzerox < win_xright_high) & (nonzerox >= win_xright_low)).nonzero()[0]\n",
    "        \n",
    "        # Append these indices to the lists\n",
    "        left_lane_inds.append(good_left_inds)\n",
    "        right_lane_inds.append(good_right_inds)\n",
    "\n",
    "        # Change the next rectangle's center location if the number of detected pixels\n",
    "        # exceed the minimum threshold\n",
    "        if (len(good_left_inds) > minpix):\n",
    "            leftx_current = np.int(np.mean(nonzerox[good_left_inds]))\n",
    "        if (len(good_right_inds) > minpix):\n",
    "            rightx_current = np.int(np.mean(nonzerox[good_right_inds]))\n",
    "\n",
    "    # Concatenate the arrays of indices (previously was a list of lists of pixels)\n",
    "    try:\n",
    "        left_lane_inds = np.concatenate(left_lane_inds)\n",
    "        right_lane_inds = np.concatenate(right_lane_inds)\n",
    "    except ValueError:\n",
    "        # Avoids an error if the above is not implemented fully\n",
    "        pass\n",
    "\n",
    "    # Extract left and right line pixel positions\n",
    "    leftx = nonzerox[left_lane_inds]\n",
    "    lefty = nonzeroy[left_lane_inds] \n",
    "    rightx = nonzerox[right_lane_inds]\n",
    "    righty = nonzeroy[right_lane_inds]\n",
    "    \n",
    "    return leftx, lefty, rightx, righty"
   ]
  },
  {
   "cell_type": "code",
   "execution_count": 191,
   "metadata": {},
   "outputs": [],
   "source": [
    "def searchAroundPoly(image, left_fit, right_fit):\n",
    "    # Hyperparamter - width of the search +_polynomial curve\n",
    "    margin = 60\n",
    "\n",
    "    # Grab activated pixels\n",
    "    nonzero = binary_warped.nonzero()\n",
    "    nonzeroy = np.array(nonzero[0])\n",
    "    nonzerox = np.array(nonzero[1])\n",
    "\n",
    "    # Calculate indices that fit within the margins of the polynomial curve\n",
    "    left_margins = left_fit[0]*(nonzeroy**2) + left_fit[1]*nonzeroy + left_fit[2]\n",
    "    right_margins = right_fit[0]*(nonzeroy**2) + right_fit[1]*nonzeroy + right_fit[2]\n",
    "    left_lane_inds = ((nonzerox < left_margins + margin) & (nonzerox > left_margins\n",
    "    - margin))\n",
    "    right_lane_inds = ((nonzerox < right_margins + margin) & (nonzerox > right_margins\n",
    "    - margin))\n",
    "\n",
    "    # Extract left and right line pixel positions\n",
    "    leftx = nonzerox[left_lane_inds]\n",
    "    lefty = nonzeroy[left_lane_inds]\n",
    "    rightx = nonzerox[right_lane_inds]\n",
    "    righty = nonzeroy[right_lane_inds]\n",
    "    \n",
    "    return leftx, lefty, rightx, righty"
   ]
  },
  {
   "cell_type": "markdown",
   "metadata": {},
   "source": [
    "## 6. Lane Curvature"
   ]
  },
  {
   "cell_type": "code",
   "execution_count": 192,
   "metadata": {},
   "outputs": [],
   "source": [
    "def measure_curvature_real(ploty, left_fit, right_fit):\n",
    "    # Using the left/right fit in meters, calculate the curvature at the bottom of the image\n",
    "    y_eval = np.max(ploty)\n",
    "    \n",
    "    # Using the curve as f(y) = Ay^2 + By + C:\n",
    "    # The curvature can be estimated as: (1+(2Ay+B)^2)^(3/2)/|2A|\n",
    "    left_curverad = ((1 + (2*left_fit[0]*y_eval + left_fit[1])**2)**1.5) / np.absolute(2*left_fit[0])\n",
    "    right_curverad = ((1 + (2*right_fit[0]*y_eval + right_fit[1])**2)**1.5) / np.absolute(2*right_fit[0])\n",
    "    \n",
    "    return np.int((left_curverad + right_curverad)//2)"
   ]
  },
  {
   "cell_type": "markdown",
   "metadata": {},
   "source": [
    "## 7. Inverse Perspective Transform and Text Overlay"
   ]
  },
  {
   "cell_type": "code",
   "execution_count": 193,
   "metadata": {},
   "outputs": [],
   "source": [
    "def inversePerspectiveTransform(img):\n",
    "    # Estimated source and destination values for a bird's eye view of the road\n",
    "    # Values were determined using estimates from two straight line images\n",
    "    h = img.shape[0]\n",
    "    w = img.shape[1]\n",
    "    img_size = (w,h)\n",
    "    mid_offset = 90\n",
    "    \n",
    "    # Top left, top right, bottom left, bottom right\n",
    "    src = np.float32([[w/2-mid_offset, 460], [w/2+mid_offset, 460], [0, h-15], [w, h-15]])\n",
    "    dst = np.float32([[0, 0], [w, 0], [0, h], [w, h]])\n",
    "\n",
    "    # Given src and dst points, calculate the perspective transform matrix\n",
    "    Minv = cv2.getPerspectiveTransform(dst, src)\n",
    "\n",
    "    # Warp the image using OpenCV warpPerspective()\n",
    "    transformed = cv2.warpPerspective(img, Minv, img_size, flags=cv2.INTER_LINEAR)\n",
    "\n",
    "    # Return the resulting image and matrix\n",
    "    return transformed"
   ]
  },
  {
   "cell_type": "code",
   "execution_count": 194,
   "metadata": {},
   "outputs": [],
   "source": [
    "def addText(img, curvature, offset):\n",
    "    # Font and sizes is a default CV2 font\n",
    "    font = cv2.FONT_HERSHEY_SIMPLEX\n",
    "    \n",
    "    # Positioned to be in the top left corner with 50px margins\n",
    "    bottomLeftCornerOfText1 = (50,50)\n",
    "    bottomLeftCornerOfText2 = (50,100)\n",
    "    fontScale = 1\n",
    "    \n",
    "    # White color \n",
    "    fontColor = (255,255,255)\n",
    "    lineType = 2\n",
    "    \n",
    "    # Depending on the vehicle offset, different words are used to maintain a positive value shown\n",
    "    if (offset == 0):\n",
    "        text1 = f\"Radius of Curvature = {curvature}m\"\n",
    "        text2 = \"Vehicle is centered\"\n",
    "    elif (offset < 0):\n",
    "        offset = np.abs(offset)\n",
    "        text1 = f\"Radius of Curvature = {curvature}m\"\n",
    "        text2 = f\"Vehicle is {offset:.2}m left of center\"\n",
    "    else:\n",
    "        text1 = f\"Radius of Curvature = {curvature}m\"\n",
    "        text2 = f\"Vehicle is {offset:.2}m right of center\"\n",
    "        \n",
    "    # Text is placed onto the image and returned\n",
    "    cv2.putText(img, text1, bottomLeftCornerOfText1, font, fontScale, fontColor, lineType)\n",
    "    cv2.putText(img, text2, bottomLeftCornerOfText2, font, fontScale, fontColor, lineType)"
   ]
  },
  {
   "cell_type": "markdown",
   "metadata": {},
   "source": [
    "## Full Image Processing"
   ]
  },
  {
   "cell_type": "code",
   "execution_count": 195,
   "metadata": {},
   "outputs": [],
   "source": [
    "def process_image(img):\n",
    "    # Uses the left and right fits\n",
    "    global left_fit, right_fit\n",
    "    \n",
    "    # Calibrate the camera to fix distotions using checkerboard patterns taken from the same camera\n",
    "    mtx, dist = cameraCalibration()\n",
    "    calibrated = undistort(img, mtx, dist)\n",
    "    \n",
    "    # Pipeline for color and gradient thresholding for a binary image of detected pixels\n",
    "    binary = colorGradient(calibrated)\n",
    "    \n",
    "    # Perspective transform binary pixels into a bird's eye view\n",
    "    transformed = perspectiveTransform(binary)\n",
    "    \n",
    "    # Lane is detected using window sections of polynomial margins, depending on if it's the first iteration\n",
    "    curve, left_fit, right_fit, curvature, offset = detectLane(transformed, left_fit, right_fit)\n",
    "    \n",
    "    # Inverse transform the image back to the original shape\n",
    "    inverse = inversePerspectiveTransform(curve)\n",
    "    \n",
    "    # Add the text for curvature and car position offset    \n",
    "    addText(img, curvature, offset)\n",
    "    \n",
    "    # The detected lane markings are overlaid with a 50% opacity before returning\n",
    "    result = cv2.addWeighted(img, 1, inverse, 0.5, 0)\n",
    "\n",
    "    return result"
   ]
  },
  {
   "cell_type": "code",
   "execution_count": 196,
   "metadata": {},
   "outputs": [],
   "source": [
    "# Testing Purposes only\n",
    "left_fit = [0,0,0]\n",
    "right_fit = [0,0,0]\n",
    "img = cv2.imread('test_images/test5.jpg')\n",
    "out = process_image(img)\n",
    "cv2.imwrite('report_images/final_image.jpg', out)\n",
    "cv2.imshow('image', out)"
   ]
  },
  {
   "cell_type": "markdown",
   "metadata": {},
   "source": [
    "### Applied to a Video"
   ]
  },
  {
   "cell_type": "markdown",
   "metadata": {},
   "source": [
    "left_fit = [0,0,0]\n",
    "right_fit = [0,0,0]\n",
    "video_output = 'project_video_output.mp4'\n",
    "\n",
    "clip = VideoFileClip(\"project_video.mp4\")\n",
    "video_clip = clip.fl_image(process_image)\n",
    "%time video_clip.write_videofile(video_output, audio=False)"
   ]
  },
  {
   "cell_type": "markdown",
   "metadata": {},
   "source": [
    "HTML(\"\"\"\n",
    "<video width=\"1280\" height=\"720\" controls>\n",
    "  <source src=\"{0}\">\n",
    "</video>\n",
    "\"\"\".format(video_output))"
   ]
  }
 ],
 "metadata": {
  "anaconda-cloud": {},
  "kernelspec": {
   "display_name": "Python [conda env:root]",
   "language": "python",
   "name": "conda-root-py"
  },
  "language_info": {
   "codemirror_mode": {
    "name": "ipython",
    "version": 3
   },
   "file_extension": ".py",
   "mimetype": "text/x-python",
   "name": "python",
   "nbconvert_exporter": "python",
   "pygments_lexer": "ipython3",
   "version": "3.7.7"
  }
 },
 "nbformat": 4,
 "nbformat_minor": 1
}
